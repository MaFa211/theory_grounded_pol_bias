{
 "cells": [
  {
   "cell_type": "code",
   "execution_count": null,
   "id": "5a60cb88",
   "metadata": {},
   "outputs": [],
   "source": [
    "import pandas as pd"
   ]
  },
  {
   "cell_type": "code",
   "execution_count": null,
   "id": "3a8d21d3",
   "metadata": {},
   "outputs": [],
   "source": [
    "df = pd.read_csv('../data/comb_df_gpt_labels.csv')\n",
    "df.groupby('source')[['topic_label_gpt', 'pol_label_gpt']].value_counts().reset_index().sort_values(['source', 'topic_label_gpt', 'pol_label_gpt']).to_csv('labels_by_source.csv', index=False)"
   ]
  }
 ],
 "metadata": {
  "language_info": {
   "name": "python"
  }
 },
 "nbformat": 4,
 "nbformat_minor": 5
}
