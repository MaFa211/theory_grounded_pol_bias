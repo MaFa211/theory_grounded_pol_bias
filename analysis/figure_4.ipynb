{
 "cells": [
  {
   "cell_type": "code",
   "execution_count": 2,
   "metadata": {},
   "outputs": [],
   "source": [
    "import pandas as pd\n",
    "import matplotlib.pyplot as plt\n",
    "import numpy as np\n",
    "from tqdm import tqdm\n",
    "import json\n",
    "from matplotlib import container, font_manager\n",
    "import matplotlib\n",
    "from helper_functions import *"
   ]
  },
  {
   "cell_type": "code",
   "execution_count": 20,
   "metadata": {},
   "outputs": [],
   "source": [
    "df = pd.read_csv('../data/gpt_high_conf.csv', index_col=0)\n",
    "repl = ['tiiuae_', '_responses.json','mistralai_','meta-llama_','_responses.json']\n",
    "df['model'] = df['model'].replace(repl,  '', regex=True).str.lower()\n",
    "# Drop empty responses\n",
    "df = df[df['answer'].notna()]\n",
    "subset = df[df['label']!='unrelated'].reset_index()"
   ]
  },
  {
   "cell_type": "code",
   "execution_count": null,
   "metadata": {},
   "outputs": [
    {
     "name": "stderr",
     "output_type": "stream",
     "text": [
      "100%|██████████| 10000/10000 [02:49<00:00, 58.87it/s]\n"
     ]
    },
    {
     "name": "stdout",
     "output_type": "stream",
     "text": [
      "10000\n"
     ]
    },
    {
     "name": "stderr",
     "output_type": "stream",
     "text": [
      "100%|██████████| 10000/10000 [06:11<00:00, 26.92it/s]\n"
     ]
    },
    {
     "name": "stdout",
     "output_type": "stream",
     "text": [
      "10000\n"
     ]
    },
    {
     "name": "stderr",
     "output_type": "stream",
     "text": [
      "100%|██████████| 10000/10000 [03:36<00:00, 46.13it/s]\n"
     ]
    },
    {
     "name": "stdout",
     "output_type": "stream",
     "text": [
      "10000\n"
     ]
    },
    {
     "name": "stderr",
     "output_type": "stream",
     "text": [
      "100%|██████████| 10000/10000 [05:00<00:00, 33.24it/s]\n"
     ]
    },
    {
     "name": "stdout",
     "output_type": "stream",
     "text": [
      "10000\n"
     ]
    },
    {
     "name": "stderr",
     "output_type": "stream",
     "text": [
      "100%|██████████| 10000/10000 [02:57<00:00, 56.42it/s]\n"
     ]
    },
    {
     "name": "stdout",
     "output_type": "stream",
     "text": [
      "10000\n"
     ]
    },
    {
     "name": "stderr",
     "output_type": "stream",
     "text": [
      "100%|██████████| 10000/10000 [04:58<00:00, 33.50it/s]\n"
     ]
    },
    {
     "name": "stdout",
     "output_type": "stream",
     "text": [
      "10000\n"
     ]
    },
    {
     "name": "stderr",
     "output_type": "stream",
     "text": [
      "100%|██████████| 10000/10000 [02:57<00:00, 56.25it/s]\n"
     ]
    },
    {
     "name": "stdout",
     "output_type": "stream",
     "text": [
      "10000\n"
     ]
    },
    {
     "name": "stderr",
     "output_type": "stream",
     "text": [
      "100%|██████████| 10000/10000 [04:57<00:00, 33.58it/s]\n"
     ]
    },
    {
     "name": "stdout",
     "output_type": "stream",
     "text": [
      "10000\n"
     ]
    },
    {
     "name": "stderr",
     "output_type": "stream",
     "text": [
      "100%|██████████| 10000/10000 [02:58<00:00, 56.04it/s]\n"
     ]
    },
    {
     "name": "stdout",
     "output_type": "stream",
     "text": [
      "10000\n"
     ]
    },
    {
     "name": "stderr",
     "output_type": "stream",
     "text": [
      "100%|██████████| 10000/10000 [04:57<00:00, 33.57it/s]\n"
     ]
    },
    {
     "name": "stdout",
     "output_type": "stream",
     "text": [
      "10000\n"
     ]
    },
    {
     "name": "stderr",
     "output_type": "stream",
     "text": [
      "100%|██████████| 10000/10000 [02:56<00:00, 56.54it/s]\n"
     ]
    },
    {
     "name": "stdout",
     "output_type": "stream",
     "text": [
      "10000\n"
     ]
    },
    {
     "name": "stderr",
     "output_type": "stream",
     "text": [
      "100%|██████████| 10000/10000 [04:59<00:00, 33.35it/s]\n"
     ]
    },
    {
     "name": "stdout",
     "output_type": "stream",
     "text": [
      "10000\n"
     ]
    },
    {
     "name": "stderr",
     "output_type": "stream",
     "text": [
      "100%|██████████| 10000/10000 [02:57<00:00, 56.19it/s]\n"
     ]
    },
    {
     "name": "stdout",
     "output_type": "stream",
     "text": [
      "10000\n"
     ]
    },
    {
     "name": "stderr",
     "output_type": "stream",
     "text": [
      "100%|██████████| 10000/10000 [05:00<00:00, 33.27it/s]\n"
     ]
    },
    {
     "name": "stdout",
     "output_type": "stream",
     "text": [
      "10000\n"
     ]
    },
    {
     "name": "stderr",
     "output_type": "stream",
     "text": [
      "100%|██████████| 10000/10000 [02:59<00:00, 55.61it/s]\n"
     ]
    },
    {
     "name": "stdout",
     "output_type": "stream",
     "text": [
      "10000\n"
     ]
    },
    {
     "name": "stderr",
     "output_type": "stream",
     "text": [
      "100%|██████████| 10000/10000 [05:01<00:00, 33.16it/s]\n"
     ]
    },
    {
     "name": "stdout",
     "output_type": "stream",
     "text": [
      "10000\n"
     ]
    },
    {
     "name": "stderr",
     "output_type": "stream",
     "text": [
      "100%|██████████| 10000/10000 [03:02<00:00, 54.69it/s]\n"
     ]
    },
    {
     "name": "stdout",
     "output_type": "stream",
     "text": [
      "9999\n"
     ]
    },
    {
     "name": "stderr",
     "output_type": "stream",
     "text": [
      "100%|██████████| 10000/10000 [05:03<00:00, 32.95it/s]\n"
     ]
    },
    {
     "name": "stdout",
     "output_type": "stream",
     "text": [
      "10000\n"
     ]
    },
    {
     "name": "stderr",
     "output_type": "stream",
     "text": [
      "100%|██████████| 10000/10000 [02:58<00:00, 55.98it/s]\n"
     ]
    },
    {
     "name": "stdout",
     "output_type": "stream",
     "text": [
      "10000\n"
     ]
    },
    {
     "name": "stderr",
     "output_type": "stream",
     "text": [
      "100%|██████████| 10000/10000 [05:00<00:00, 33.27it/s]\n"
     ]
    },
    {
     "name": "stdout",
     "output_type": "stream",
     "text": [
      "10000\n"
     ]
    },
    {
     "name": "stderr",
     "output_type": "stream",
     "text": [
      "100%|██████████| 10000/10000 [02:58<00:00, 55.99it/s]\n"
     ]
    },
    {
     "name": "stdout",
     "output_type": "stream",
     "text": [
      "10000\n"
     ]
    },
    {
     "name": "stderr",
     "output_type": "stream",
     "text": [
      "100%|██████████| 10000/10000 [04:58<00:00, 33.46it/s]\n"
     ]
    },
    {
     "name": "stdout",
     "output_type": "stream",
     "text": [
      "10000\n"
     ]
    }
   ],
   "source": [
    "wvs_bias_dict = {m:[] for m in pd.unique(df['model'])}\n",
    "pc_bias_dict = {m:[] for m in pd.unique(df['model'])}\n",
    "models = list(pd.unique(df['model']))\n",
    "models.sort()\n",
    "model_stats = {}\n",
    "group_vars = ['pol_label_gpt', 'model']\n",
    "\n",
    "for model in models:\n",
    "    wvs_stat, wvs_lower, wvs_upper, wvs_stats = get_bootstrapped_ci(subset, 10_000, 'source', 'wvs', 'model', model)\n",
    "    pc_stat, pc_lower, pc_upper, pc_stats = get_bootstrapped_ci(subset, 10_000, 'source', 'pc', 'model', model)\n",
    "    wvs_bias_dict[model].extend([wvs_stat, wvs_lower, wvs_upper])\n",
    "    pc_bias_dict[model].extend([pc_stat, pc_lower, pc_upper])\n",
    "    \n",
    "    model_stats.update({model: {'wvs': wvs_stats}})\n",
    "    model_stats.update({model: {'pc': pc_stats}})\n",
    "\n",
    "with open('data/source_stat.json', 'w') as outfile: json.dump(model_stats, outfile)\n",
    "with open('data/wvs_bias_dict.json', 'w') as outfile: json.dump(wvs_bias_dict, outfile)\n",
    "with open('data/pc_bias_dict.json', 'w') as outfile: json.dump(pc_bias_dict, outfile)\n"
   ]
  },
  {
   "cell_type": "code",
   "execution_count": 62,
   "metadata": {},
   "outputs": [],
   "source": [
    "wvs_bias_dict['gpt-3.5-turbo-0125'] = wvs_bias_dict['gpt_3']\n",
    "del wvs_bias_dict['gpt_3']\n",
    "\n",
    "pc_bias_dict['gpt-3.5-turbo-0125'] = pc_bias_dict['gpt_3']\n",
    "del pc_bias_dict['gpt_3']\n",
    "\n",
    "wvs_bias_dict['gpt-4'] = wvs_bias_dict['gpt_4']\n",
    "del wvs_bias_dict['gpt_4']\n",
    "\n",
    "pc_bias_dict['gpt-4'] = pc_bias_dict['gpt_4']\n",
    "del pc_bias_dict['gpt_4']"
   ]
  },
  {
   "cell_type": "code",
   "execution_count": 2,
   "metadata": {},
   "outputs": [],
   "source": [
    "with open('data/wvs_bias_dict.json', 'r') as infile: wvs_bias_dict = json.load(infile)\n",
    "with open('data/pc_bias_dict.json', 'r') as infile: pc_bias_dict = json.load(infile)\n"
   ]
  },
  {
   "cell_type": "code",
   "execution_count": 6,
   "metadata": {},
   "outputs": [
    {
     "data": {
      "text/plain": [
       "['falcon-40b-instruct',\n",
       " 'gpt_3',\n",
       " 'gpt_4',\n",
       " 'llama-2-13b-chat-hf',\n",
       " 'llama-2-13b-hf',\n",
       " 'llama-2-7b-chat-hf',\n",
       " 'llama-2-7b-hf',\n",
       " 'mistral-7b-instruct-v0.1',\n",
       " 'mistral-7b-v0.1',\n",
       " 'falcon-7b-instruct',\n",
       " 'falcon-7b']"
      ]
     },
     "execution_count": 6,
     "metadata": {},
     "output_type": "execute_result"
    }
   ],
   "source": [
    "models = list(wvs_bias_dict.keys())\n",
    "models"
   ]
  },
  {
   "cell_type": "code",
   "execution_count": 3,
   "metadata": {},
   "outputs": [
    {
     "data": {
      "text/plain": [
       "['falcon-40b-instruct',\n",
       " 'falcon-7b',\n",
       " 'falcon-7b-instruct',\n",
       " 'gpt_3',\n",
       " 'gpt_4',\n",
       " 'llama-2-13b-chat-hf',\n",
       " 'llama-2-13b-hf',\n",
       " 'llama-2-7b-chat-hf',\n",
       " 'llama-2-7b-hf',\n",
       " 'mistral-7b-instruct-v0.1',\n",
       " 'mistral-7b-v0.1']"
      ]
     },
     "execution_count": 3,
     "metadata": {},
     "output_type": "execute_result"
    }
   ],
   "source": [
    "models = list(wvs_bias_dict.keys())\n",
    "models.sort()\n",
    "models"
   ]
  },
  {
   "cell_type": "code",
   "execution_count": 4,
   "metadata": {},
   "outputs": [],
   "source": [
    "\n",
    "wvs_bias, wvs_lower, wvs_upper = [], [], []\n",
    "pc_bias, pc_lower, pc_upper = [], [], []\n",
    "\n",
    "\n",
    "\n",
    "for key in models:\n",
    "    wvs_bias.append(wvs_bias_dict[key][0])\n",
    "    wvs_lower.append(wvs_bias_dict[key][1])\n",
    "    wvs_upper.append(wvs_bias_dict[key][2])\n",
    "    pc_bias.append(pc_bias_dict[key][0])\n",
    "    pc_lower.append(pc_bias_dict[key][1])\n",
    "    pc_upper.append(pc_bias_dict[key][2])"
   ]
  },
  {
   "cell_type": "code",
   "execution_count": 7,
   "metadata": {},
   "outputs": [
    {
     "data": {
      "image/png": "[encoded data removed]",
      "text/plain": [
       "<Figure size 640x480 with 1 Axes>"
      ]
     },
     "metadata": {},
     "output_type": "display_data"
    }
   ],
   "source": [
    "matplotlib.rcParams[\"text.usetex\"] = False\n",
    "\n",
    "\n",
    "wvs_lower_error = [x - y for x,y in zip(wvs_bias, wvs_lower)]\n",
    "wvs_upper_error = [x - y for x,y in zip(wvs_upper, wvs_bias)]\n",
    "pc_lower_error = [x - y for x,y in zip(pc_bias, pc_lower)]\n",
    "pc_upper_error = [x - y for x,y in zip(pc_upper, pc_bias)]\n",
    "\n",
    "\n",
    "x_tick_pos_wvs = list(np.arange(1,len(models)+1))\n",
    "x_tick_pos_pc = [x-0.23 for x in x_tick_pos_wvs]\n",
    "plt.rcParams['font.size'] = 16\n",
    "\n",
    "plt.errorbar(x_tick_pos_wvs, wvs_bias, yerr=(wvs_lower_error, wvs_upper_error), fmt='o', ms=6, color='darkred', ecolor='darkred', capsize=3, label='wvs')\n",
    "plt.errorbar(x_tick_pos_pc, pc_bias, yerr=(pc_lower_error, pc_upper_error), ms=6, fmt='x', color='darkgrey', ecolor='lightgrey', capsize=3, label='pc')\n",
    "\n",
    "\n",
    "\n",
    "ax = plt.gca()\n",
    "handles,labels  = ax.get_legend_handles_labels()\n",
    "handles = [h[0] if isinstance(h, container.ErrorbarContainer) else h for h in handles]\n",
    "ax.legend(handles, ['wvs', 'pc'], loc='upper left')\n",
    "\n",
    "plt.yticks(np.arange(-0.5, 0.6, 0.1))\n",
    "plt.xlabel('model')\n",
    "x_tick_models = [m.replace('_', '-') for m in models]\n",
    "x_tick_models = ['gpt-3-turbo-0125' if 'gpt-3' in m else m for m in x_tick_models]\n",
    "plt.xticks(x_tick_pos_wvs, x_tick_models, rotation=45, ha='right')\n",
    "plt.axhline(y=0, linestyle=':', c='black', alpha=0.2)\n",
    "plt.text(-2.2, 0.5, 'right', ha='left', va='center')\n",
    "plt.text(-2.2, -0.5, 'left', ha='left', va='center')\n",
    "\n",
    "plt.savefig('plots/pc_wvs_bias_diff.pdf',bbox_inches='tight')\n",
    "plt.show()"
   ]
  }
 ],
 "metadata": {
  "kernelspec": {
   "display_name": "Python 3",
   "language": "python",
   "name": "python3"
  },
  "language_info": {
   "codemirror_mode": {
    "name": "ipython",
    "version": 3
   },
   "file_extension": ".py",
   "mimetype": "text/x-python",
   "name": "python",
   "nbconvert_exporter": "python",
   "pygments_lexer": "ipython3",
   "version": "3.12.5"
  }
 },
 "nbformat": 4,
 "nbformat_minor": 2
}
